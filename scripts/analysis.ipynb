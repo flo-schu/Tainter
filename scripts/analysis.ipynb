{
 "cells": [
  {
   "cell_type": "code",
   "execution_count": 1,
   "metadata": {},
   "outputs": [],
   "source": [
    "import matplotlib.pyplot as plt\n",
    "import numpy as np"
   ]
  },
  {
   "cell_type": "markdown",
   "metadata": {},
   "source": [
    "### import tainter model"
   ]
  },
  {
   "cell_type": "code",
   "execution_count": 2,
   "metadata": {},
   "outputs": [],
   "source": [
    "import tainter.model.methods as tm\n",
    "from tainter.cluster.parameter_setup import generate_parameters\n",
    "from tainter.cluster.parameter_scan_odeint import parameter_scan\n",
    "from tainter.f2_plot_stochastic import fig2_stochastic_simulations\n",
    "from tainter.f3_plot_ensemble_with_approx import fig3_stochastic_ensemble_and_macroscopic_approximation\n",
    "from tainter.f3b_plot_trajectories import fig3b_administrator_trajectories\n",
    "from tainter.f4_plot_parameter_analysis import fig4_parameter_analysis\n"
   ]
  },
  {
   "cell_type": "markdown",
   "metadata": {},
   "source": [
    "## Threshold, Access and Energy Production\n",
    "\n",
    "In the initial network, all nodes are uncoordinated workers\n",
    "$N = N_L$, therefore the total energy production of the initial network is $E=a~N^\\psi$, where $\\psi$ is the marginal return of investment for uncoordinated workers, since the per capita enegy production is defined as $E_{cap} = \\frac{E}{N}$, initially we have $E_{cap,~init} = a~\\frac{N^\\psi}{N}$. To satisfy $E_{cap,~init} = 1$, resource access ($a$) has to be $a=\\frac{N}{N^\\psi}$. This can be interpreted as a baseline efficiency of the workers $\\geq 1$ to satisfy their needs.\n",
    "\n",
    "We then assume that the energy in the network is homegenously re-distributed after production and no additional administrator is selected if $E_{cap} \\geq 1$"
   ]
  },
  {
   "cell_type": "code",
   "execution_count": 3,
   "metadata": {},
   "outputs": [],
   "source": [
    "def calculate_initial_energy_production(N, mri_l):\n",
    "    \"\"\"\n",
    "    calculate the amount of per capita energy production at the initial stage\n",
    "    of the network, when all nodes are uncoordinated workers, if access\n",
    "    to the resources is equal to 1\n",
    "    \"\"\"\n",
    "    return N ** mri_l / N\n",
    "\n",
    "\n",
    "def calculate_initial_resource_access(N, mri_l):\n",
    "    \"\"\"\n",
    "    scales the resource access of the network so that it ensures that the initial\n",
    "    per capita energy production without coordinated workers equals 1.\n",
    "    \"\"\"\n",
    "    return 1 / calculate_initial_energy_production(N, mri_l)"
   ]
  },
  {
   "cell_type": "code",
   "execution_count": 6,
   "metadata": {},
   "outputs": [],
   "source": [
    "# general parameters\n",
    "SEED = 651\n",
    "plot_time = 5000\n",
    "max_runtime = 10000\n",
    "\n",
    "# simulation parameters (for all figures)\n",
    "network=\"erdos\"\n",
    "network_size = 400\n",
    "link_probability_between_nodes = 0.02\n",
    "mri_of_laborers = 0.75\n",
    "mri_of_coordinated_laborers = 0.75\n",
    "efficiency_of_coordinated_laborers = 1.05\n",
    "shock_alpha = 15\n",
    "shock_beta = 1\n",
    "\n",
    "first_admin = \"highest degree\"\n",
    "choice_next_admin = \"topcoordinated\"\n",
    "\n",
    "# figure 2 and 3\n",
    "exploration_scenarios = [0, 0.00275,  0.02]  # must always be a list of 3\n",
    "\n",
    "# figure 3\n",
    "ensemble_data = \"../data/ensemble/\"\n",
    "use_pre_simulated_data = True  # uses pre simulated data to generate plot\n",
    "iterations = 100  # needs to be increased but will take some time\n",
    "\n",
    "# figure 4\n",
    "par_scan_output = \"../data/parameter_analysis/\"\n",
    "\n"
   ]
  },
  {
   "cell_type": "markdown",
   "metadata": {},
   "source": [
    "#### play with the simulation"
   ]
  },
  {
   "cell_type": "code",
   "execution_count": null,
   "metadata": {},
   "outputs": [],
   "source": [
    "N_coordinated_workers = 10\n",
    "t = 0\n",
    "access = calculate_initial_resource_access(network_size, mri_of_laborers)\n",
    "A, L, Lc, positions, E_cap, tmax, ainit, A_exp, L_exp, Lc_exp, Admin = tm.init(\n",
    "    N=network_size, \n",
    "    a=access, \n",
    "    elast_l=mri_of_laborers, \n",
    "    elast_lc=mri_of_coordinated_laborers, \n",
    "    eff_lc=efficiency_of_coordinated_laborers,\n",
    "    tmax=max_runtime\n",
    ")\n",
    "G = tm.construct_network(\n",
    "    network=network, \n",
    "    N=network_size, \n",
    "    p=link_probability_between_nodes\n",
    ")\n",
    "\n",
    "ecap = tm.energy_out_capita(\n",
    "    a=access, \n",
    "    L=L, \n",
    "    Lc=Lc, \n",
    "    elast_l=mri_of_laborers, \n",
    "    elast_lc=mri_of_coordinated_laborers, \n",
    "    eff_lc=efficiency_of_coordinated_laborers, \n",
    "    N=network_size\n",
    ")\n",
    "\n",
    "\n",
    "print(f\"Ecap: {round(ecap,2)}\")\n",
    "tm.print_graph(t, A, Lc, L, G, positions, network_size)"
   ]
  },
  {
   "cell_type": "markdown",
   "metadata": {},
   "source": [
    "#### response to shocks"
   ]
  },
  {
   "cell_type": "code",
   "execution_count": null,
   "metadata": {},
   "outputs": [],
   "source": [
    "network_update = False\n",
    "while not network_update:\n",
    "    t += 1\n",
    "    shock = tm.shock(shock_alpha, shock_beta)\n",
    "    access_after_shock = access * (1 - shock)\n",
    "\n",
    "    # ecap after shock\n",
    "    ecap = tm.energy_out_capita(\n",
    "        access_after_shock, L, Lc, mri_of_laborers, mri_of_coordinated_laborers, \n",
    "        efficiency_of_coordinated_laborers, network_size)\n",
    "\n",
    "    print(f\"time: {t}, Ecap = {round(ecap, 2)} < {1}\", end=\"\\r\")\n",
    "    if ecap < 1:\n",
    "        Admin = tm.select_Admin(G, A, L, Lc, first_admin, choice_next_admin)\n",
    "\n",
    "        # if no Admin is selected, there is no need to update the network\n",
    "        if Admin != None:\n",
    "            L, Lc, A = tm.update_network(A, L, Lc, Admin, G)\n",
    "\n",
    "        ecap = tm.energy_out_capita(\n",
    "            access_after_shock, L, Lc, mri_of_laborers, mri_of_coordinated_laborers, \n",
    "            efficiency_of_coordinated_laborers, network_size)\n",
    "\n",
    "        print(f\"time: {t}, Ecap after network update: {ecap}\")\n",
    "\n",
    "        tm.print_graph(0, A, Lc, L, G, positions, network_size, layout=\"fixed\")\n",
    "\n",
    "        network_update = True"
   ]
  },
  {
   "cell_type": "markdown",
   "metadata": {},
   "source": [
    "## Stochastic Simulation\n",
    "\n",
    "#### Figure 2 "
   ]
  },
  {
   "cell_type": "code",
   "execution_count": null,
   "metadata": {},
   "outputs": [],
   "source": [
    "f2 = fig2_stochastic_simulations(\n",
    "    seed=SEED,\n",
    "    plot_time=plot_time,\n",
    "    network_size=network_size,\n",
    "    link_probability_between_nodes=link_probability_between_nodes,\n",
    "    mri_of_laborers=mri_of_laborers,\n",
    "    mri_of_coordinated_laborers=mri_of_coordinated_laborers,\n",
    "    efficiency_of_coordinated_laborers=efficiency_of_coordinated_laborers,\n",
    "    exploration_setups=exploration_scenarios,\n",
    "    shock_alpha=shock_alpha,\n",
    "    shock_beta=shock_beta\n",
    ")\n",
    "plt.show()\n",
    "f2.savefig(\"pub_figure2.png\", dpi = 65)\n"
   ]
  },
  {
   "cell_type": "markdown",
   "metadata": {},
   "source": [
    "## Macroscopic Approximation\n",
    "\n",
    "the macroscopic approximation is\n",
    "\n",
    "$\\frac{dN_A}{dt}=p_e(N-2 N_A) + F(\\frac{N ^ \\psi}{E}, \\beta, \\alpha), with$\n",
    "\n",
    "\n",
    "$E = ((N-N_a)(1-\\rho)^{N_a})^\\psi + c((N-N_A)(1-(1-\\rho)^{N_A}))^\\phi$\n",
    "\n",
    "\n",
    "$E_{cap} =  \\frac{E}{N ^ \\psi} $\n",
    "\n",
    "where $F$ is the cumulative Beta distribution and $N^\\psi$ is the initial energy production of the network without any coordinated workers. It implies the assumption that resource of the network increases exponentially with decreasing marginal returns. This is done to satisfy that the initial energy production always satistfy $E_{cap} = 1$\n"
   ]
  },
  {
   "cell_type": "markdown",
   "metadata": {},
   "source": [
    "#### Figure 3"
   ]
  },
  {
   "cell_type": "code",
   "execution_count": null,
   "metadata": {},
   "outputs": [],
   "source": [
    "f3 = fig3_stochastic_ensemble_and_macroscopic_approximation(\n",
    "    seed=SEED,\n",
    "    plot_time=plot_time,\n",
    "    network_size=network_size,\n",
    "    link_probability_between_nodes=link_probability_between_nodes,\n",
    "    mri_of_laborers=mri_of_laborers,\n",
    "    mri_of_coordinated_laborers=mri_of_coordinated_laborers,\n",
    "    efficiency_of_coordinated_laborers=efficiency_of_coordinated_laborers,\n",
    "    exploration_setups=exploration_scenarios,\n",
    "    shock_alpha=shock_alpha,\n",
    "    shock_beta=shock_beta,\n",
    "    ensemble_data=ensemble_data,\n",
    "    iterations=iterations,\n",
    "    use_pre_simulated_data=use_pre_simulated_data\n",
    ")\n",
    "plt.show()\n",
    "f3.savefig(\"pub_figure3.png\", dpi = 65)"
   ]
  },
  {
   "cell_type": "code",
   "execution_count": null,
   "metadata": {},
   "outputs": [],
   "source": [
    "mri = 0.35\n",
    "\n",
    "f3b = fig3b_administrator_trajectories(\n",
    "    exploration_setups=[0.002, 0.0002],\n",
    "    network_size=network_size,\n",
    "    link_probability_between_nodes=0.2,\n",
    "    mri_of_coordinated_laborers=mri,\n",
    "    mri_of_laborers=mri,\n",
    "    efficiency_of_coordinated_laborers=1.5,\n",
    "    shock_alpha=shock_alpha,\n",
    "    shock_beta=shock_beta\n",
    ")\n",
    "\n",
    "plt.show()\n",
    "f3b.savefig(\"pub_figure3b.png\", dpi=65)"
   ]
  },
  {
   "cell_type": "markdown",
   "metadata": {},
   "source": [
    "## Parameter Analysis of Macroscopic Approximation"
   ]
  },
  {
   "cell_type": "code",
   "execution_count": 12,
   "metadata": {},
   "outputs": [
    {
     "name": "stdout",
     "output_type": "stream",
     "text": [
      "0\n",
      "prepared parameters ['p_e', 'rho', 'c'] in 1 chunks.\n"
     ]
    }
   ],
   "source": [
    "# select parameter ranges\n",
    "rho = np.linspace(0, 0.3, 10)  # link density in erdos renyi network\n",
    "c = np.linspace(1, 3, 20)  # efficiency of coordinated Workers\n",
    "pe_null = np.array([0])\n",
    "pe_explore = np.logspace(-5, -1.6, num=9)\n",
    "p_e = np.concatenate((pe_null, pe_explore), axis=None)\n",
    "\n",
    "approx_parameters = dict(\n",
    "    N=400,\n",
    "    p_e=None,\n",
    "    rho=None,\n",
    "    psi=0.75,\n",
    "    phi=0.75,\n",
    "    c=None,\n",
    "    alpha=1,\n",
    "    beta=15\n",
    ")\n",
    "\n",
    "\n",
    "parameters, n_chunks = generate_parameters(\n",
    "    output=par_scan_output,\n",
    "    approx_parameters=approx_parameters,\n",
    "    chunk_size=None,\n",
    "    p_e=p_e,\n",
    "    rho=rho,\n",
    "    c=c,\n",
    ")\n",
    "\n",
    "print(f\"prepared parameters {parameters} in {n_chunks} chunks.\")"
   ]
  },
  {
   "cell_type": "code",
   "execution_count": 13,
   "metadata": {},
   "outputs": [
    {
     "name": "stdout",
     "output_type": "stream",
     "text": [
      "['p_e', 'rho', 'c'] ../data/parameter_analysis/ 1\n",
      "{'N': 400, 'p_e': None, 'rho': None, 'psi': 0.75, 'phi': 0.75, 'c': None, 'alpha': 1, 'beta': 15}\n"
     ]
    },
    {
     "name": "stderr",
     "output_type": "stream",
     "text": [
      "100%|██████████| 2000/2000 [03:31<00:00,  9.44it/s]\n"
     ]
    }
   ],
   "source": [
    "# run parameter scan\n",
    "\n",
    "parameter_scan(\n",
    "    output_dir=par_scan_output,\n",
    "    njob=1,\n",
    "    parameters=parameters,\n",
    "    # approximation params\n",
    "\n",
    ")"
   ]
  },
  {
   "cell_type": "code",
   "execution_count": 17,
   "metadata": {},
   "outputs": [
    {
     "name": "stdout",
     "output_type": "stream",
     "text": [
      "Import complete\n",
      "2000 10 10 20\n"
     ]
    },
    {
     "ename": "IndexError",
     "evalue": "index 3 is out of bounds for axis 0 with size 3",
     "output_type": "error",
     "traceback": [
      "\u001b[1;31m---------------------------------------------------------------------------\u001b[0m",
      "\u001b[1;31mIndexError\u001b[0m                                Traceback (most recent call last)",
      "Cell \u001b[1;32mIn [17], line 1\u001b[0m\n\u001b[1;32m----> 1\u001b[0m f4 \u001b[39m=\u001b[39m fig4_parameter_analysis(\n\u001b[0;32m      2\u001b[0m     data_directory\u001b[39m=\u001b[39;49mpar_scan_output,\n\u001b[0;32m      3\u001b[0m     parameters\u001b[39m=\u001b[39;49m[\u001b[39m\"\u001b[39;49m\u001b[39m\\\\\u001b[39;49;00m\u001b[39mrho\u001b[39;49m\u001b[39m\"\u001b[39;49m, \u001b[39m\"\u001b[39;49m\u001b[39mp_e\u001b[39;49m\u001b[39m\"\u001b[39;49m, \u001b[39m\"\u001b[39;49m\u001b[39mc\u001b[39;49m\u001b[39m\"\u001b[39;49m],\n\u001b[0;32m      4\u001b[0m     multiline_steps\u001b[39m=\u001b[39;49m[\u001b[39m1\u001b[39;49m, \u001b[39m1.5\u001b[39;49m, \u001b[39m2.0\u001b[39;49m]\n\u001b[0;32m      5\u001b[0m )\n\u001b[0;32m      7\u001b[0m plt\u001b[39m.\u001b[39mshow()\n\u001b[0;32m      8\u001b[0m f4\u001b[39m.\u001b[39msavefig(\u001b[39m\"\u001b[39m\u001b[39mpub_figure34.png\u001b[39m\u001b[39m\"\u001b[39m, dpi\u001b[39m=\u001b[39m\u001b[39m65\u001b[39m)\n",
      "File \u001b[1;32m~\\Documents\\Florian\\packages\\Tainter\\tainter\\f4_plot_parameter_analysis.py:156\u001b[0m, in \u001b[0;36mfig4_parameter_analysis\u001b[1;34m(data_directory, parameters, multiline_steps)\u001b[0m\n\u001b[0;32m    154\u001b[0m levels \u001b[39m=\u001b[39m npar_3\u001b[39m.\u001b[39msearchsorted(multiline_steps)\n\u001b[0;32m    155\u001b[0m \u001b[39mfor\u001b[39;00m lvl \u001b[39min\u001b[39;00m levels:\n\u001b[1;32m--> 156\u001b[0m     lbl \u001b[39m=\u001b[39m \u001b[39mf\u001b[39m\u001b[39m\"\u001b[39m\u001b[39m$\u001b[39m\u001b[39m{\u001b[39;00mparameters[\u001b[39m2\u001b[39m]\u001b[39m}\u001b[39;00m\u001b[39m = \u001b[39m\u001b[39m\"\u001b[39m \u001b[39m+\u001b[39m \u001b[39mstr\u001b[39m(np\u001b[39m.\u001b[39mround(npar_3[lvl], \u001b[39m2\u001b[39m)) \u001b[39m+\u001b[39m \u001b[39m\"\u001b[39m\u001b[39m$\u001b[39m\u001b[39m\"\u001b[39m\n\u001b[0;32m    157\u001b[0m     st \u001b[39m=\u001b[39m darr_median[:, lvl, \u001b[39m4\u001b[39m]\n\u001b[0;32m    158\u001b[0m     st \u001b[39m=\u001b[39m np\u001b[39m.\u001b[39mwhere(st \u001b[39m>\u001b[39m\u001b[39m=\u001b[39m \u001b[39m10000\u001b[39m, \u001b[39m1e100\u001b[39m, st)\n",
      "\u001b[1;31mIndexError\u001b[0m: index 3 is out of bounds for axis 0 with size 3"
     ]
    },
    {
     "data": {
      "image/png": "[encoded data removed]",
      "text/plain": [
       "<Figure size 1212.54x606.269 with 6 Axes>"
      ]
     },
     "metadata": {},
     "output_type": "display_data"
    }
   ],
   "source": [
    "f4 = fig4_parameter_analysis(\n",
    "    data_directory=par_scan_output,\n",
    "    parameters=[\"\\\\rho\", \"p_e\", \"c\"],\n",
    "    panel_steps=[0, 1e-4, 5e-4, 5e-3],\n",
    "    multiline_steps=[]\n",
    ")\n",
    "\n",
    "plt.show()\n",
    "f4.savefig(\"pub_figure4.png\", dpi=65)"
   ]
  }
 ],
 "metadata": {
  "kernelspec": {
   "display_name": "Python 3.9.13 ('tainter')",
   "language": "python",
   "name": "python3"
  },
  "language_info": {
   "codemirror_mode": {
    "name": "ipython",
    "version": 3
   },
   "file_extension": ".py",
   "mimetype": "text/x-python",
   "name": "python",
   "nbconvert_exporter": "python",
   "pygments_lexer": "ipython3",
   "version": "3.9.13"
  },
  "orig_nbformat": 4,
  "vscode": {
   "interpreter": {
    "hash": "ca8e3e861b5bc087b12729884ae4b40fb88fdf2aeff92dd9f10c8032b6f74345"
   }
  }
 },
 "nbformat": 4,
 "nbformat_minor": 2
}
