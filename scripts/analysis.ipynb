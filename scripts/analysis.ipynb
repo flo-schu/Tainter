{
 "cells": [
  {
   "cell_type": "code",
   "execution_count": null,
   "metadata": {},
   "outputs": [],
   "source": [
    "import os\n",
    "import matplotlib.pyplot as plt\n",
    "import numpy as np\n",
    "import pandas as pd\n",
    "from matplotlib import cm"
   ]
  },
  {
   "cell_type": "markdown",
   "metadata": {},
   "source": [
    "### import tainter model"
   ]
  },
  {
   "cell_type": "code",
   "execution_count": null,
   "metadata": {},
   "outputs": [],
   "source": [
    "from tainter.model.simulation import tainter\n",
    "import tainter.model.methods as tm\n",
    "from tainter.f2_plot_stochastic import fig2_stochastic_simulations\n",
    "from tainter.f3_plot_ensemble_with_approx import fig3_stochastic_ensemble_and_macroscopic_approximation"
   ]
  },
  {
   "cell_type": "markdown",
   "metadata": {},
   "source": [
    "#### set model parameters"
   ]
  },
  {
   "cell_type": "code",
   "execution_count": null,
   "metadata": {},
   "outputs": [],
   "source": [
    "# general parameters\n",
    "SEED = 564684\n",
    "plot_time = 5000\n",
    "\n",
    "# simulation parameters (for all figures)\n",
    "network_size = 400\n",
    "link_probability_between_nodes = 0.05\n",
    "mri_of_laborers = 0.8\n",
    "mri_of_coordinated_laborers = 0.8\n",
    "efficiency_of_coordinated_laborers = 1.2\n",
    "shock_alpha = 1\n",
    "shock_beta = 15\n",
    "threshold_for_complexity_increase = 0.5\n",
    "\n",
    "# figure 2 and 3\n",
    "exploration_scenarios = [0, 0.00275,  0.02]  # must always be a list of 3\n",
    "\n",
    "# figure 3\n",
    "ensemble_data = \"../data/ensemble/\"\n",
    "use_pre_simulated_data = False  # uses pre simulated data to generate plot\n",
    "iterations = 10  # needs to be increased but will take some time\n"
   ]
  },
  {
   "cell_type": "code",
   "execution_count": null,
   "metadata": {},
   "outputs": [],
   "source": [
    "f2 = fig2_stochastic_simulations(\n",
    "    seed=SEED,\n",
    "    plot_time=plot_time,\n",
    "    network_size=network_size,\n",
    "    link_probability_between_nodes=link_probability_between_nodes,\n",
    "    mri_of_laborers=mri_of_laborers,\n",
    "    mri_of_coordinated_laborers=mri_of_coordinated_laborers,\n",
    "    efficiency_of_coordinated_laborers=efficiency_of_coordinated_laborers,\n",
    "    exploration_setups=exploration_scenarios,\n",
    "    threshold_for_complexity_increase=threshold_for_complexity_increase,\n",
    "    shock_alpha=shock_alpha,\n",
    "    shock_beta=shock_beta\n",
    ")\n",
    "plt.show()\n",
    "f2.savefig(\"pub_figure2.png\", dpi = 65)\n"
   ]
  },
  {
   "cell_type": "code",
   "execution_count": null,
   "metadata": {},
   "outputs": [],
   "source": [
    "f3 = fig3_stochastic_ensemble_and_macroscopic_approximation(\n",
    "    seed=SEED,\n",
    "    plot_time=plot_time,\n",
    "    network_size=network_size,\n",
    "    link_probability_between_nodes=link_probability_between_nodes,\n",
    "    mri_of_laborers=mri_of_laborers,\n",
    "    mri_of_coordinated_laborers=mri_of_coordinated_laborers,\n",
    "    efficiency_of_coordinated_laborers=efficiency_of_coordinated_laborers,\n",
    "    exploration_setups=exploration_scenarios,\n",
    "    threshold_for_complexity_increase=threshold_for_complexity_increase,\n",
    "    shock_alpha=shock_alpha,\n",
    "    shock_beta=shock_beta,\n",
    "    ensemble_data=ensemble_data,\n",
    "    iterations=iterations,\n",
    "    use_pre_simulated_data=use_pre_simulated_data\n",
    ")\n",
    "plt.show()\n",
    "f3.savefig(\"pub_figure3.png\", dpi = 65)"
   ]
  }
 ],
 "metadata": {
  "kernelspec": {
   "display_name": "Python 3.9.6 ('venv39': venv)",
   "language": "python",
   "name": "python3"
  },
  "language_info": {
   "codemirror_mode": {
    "name": "ipython",
    "version": 3
   },
   "file_extension": ".py",
   "mimetype": "text/x-python",
   "name": "python",
   "nbconvert_exporter": "python",
   "pygments_lexer": "ipython3",
   "version": "3.9.6"
  },
  "orig_nbformat": 4,
  "vscode": {
   "interpreter": {
    "hash": "31979c530869377f7beea2da65b77d70b5a1d3c0405d3a33ba0fec7fb30da2db"
   }
  }
 },
 "nbformat": 4,
 "nbformat_minor": 2
}
