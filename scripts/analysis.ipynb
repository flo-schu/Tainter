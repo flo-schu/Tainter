{
 "cells": [
  {
   "cell_type": "code",
   "execution_count": null,
   "metadata": {},
   "outputs": [],
   "source": [
    "import os\n",
    "import matplotlib.pyplot as plt\n",
    "import numpy as np\n",
    "import pandas as pd\n",
    "from matplotlib import cm"
   ]
  },
  {
   "cell_type": "markdown",
   "metadata": {},
   "source": [
    "### import tainter model"
   ]
  },
  {
   "cell_type": "code",
   "execution_count": null,
   "metadata": {},
   "outputs": [],
   "source": [
    "from tainter.model.simulation import tainter\n",
    "import tainter.model.methods as tm\n",
    "from tainter.f2_plot_stochastic import fig2_stochastic_simulations\n",
    "from tainter.f3_plot_ensemble_with_approx import fig3_stochastic_ensemble_and_macroscopic_approximation"
   ]
  },
  {
   "cell_type": "markdown",
   "metadata": {},
   "source": [
    "#### set model parameters"
   ]
  },
  {
   "cell_type": "code",
   "execution_count": null,
   "metadata": {},
   "outputs": [],
   "source": [
    "def calculate_initial_resource_access(N, mri_l):\n",
    "    \"\"\"\n",
    "    scales the resource access of the network so that it ensures that the initial\n",
    "    per capita energy production without coordinated workers equals 1.\n",
    "    \"\"\"\n",
    "    return 1 / (N ** mri_l / N)\n"
   ]
  },
  {
   "cell_type": "code",
   "execution_count": null,
   "metadata": {},
   "outputs": [],
   "source": [
    "# general parameters\n",
    "SEED = 651\n",
    "plot_time = 5000\n",
    "max_runtime = 10000\n",
    "\n",
    "# simulation parameters (for all figures)\n",
    "network=\"erdos\"\n",
    "network_size = 400\n",
    "link_probability_between_nodes = 0.02\n",
    "mri_of_laborers = 0.75\n",
    "mri_of_coordinated_laborers = 0.75\n",
    "efficiency_of_coordinated_laborers = 1.05\n",
    "resource_access = calculate_initial_resource_access(\n",
    "    N=network_size, mri_l=mri_of_laborers\n",
    ")\n",
    "shock_alpha = 1\n",
    "shock_beta = 15\n",
    "# should remain 1 because resource access is scaled for it\n",
    "threshold_for_complexity_increase = 1  \n",
    "first_admin = \"highest degree\"\n",
    "choice_next_admin = \"topcoordinated\"\n",
    "\n",
    "# figure 2 and 3\n",
    "exploration_scenarios = [0, 0.00275,  0.02]  # must always be a list of 3\n",
    "\n",
    "# figure 3\n",
    "ensemble_data = \"../data/ensemble/\"\n",
    "use_pre_simulated_data = False  # uses pre simulated data to generate plot\n",
    "iterations = 100  # needs to be increased but will take some time\n"
   ]
  },
  {
   "cell_type": "markdown",
   "metadata": {},
   "source": [
    "#### play with the simulation"
   ]
  },
  {
   "cell_type": "code",
   "execution_count": null,
   "metadata": {},
   "outputs": [],
   "source": [
    "N_coordinated_workers = 10\n",
    "t = 0\n",
    "access = calculate_initial_resource_access(network_size, mri_of_laborers)\n",
    "A, L, Lc, positions, E_cap, tmax, ainit, A_exp, L_exp, Lc_exp, Admin = tm.init(\n",
    "    N=network_size, \n",
    "    a=access, \n",
    "    elast_l=mri_of_laborers, \n",
    "    elast_lc=mri_of_coordinated_laborers, \n",
    "    eff_lc=efficiency_of_coordinated_laborers,\n",
    "    tmax=max_runtime\n",
    ")\n",
    "G = tm.construct_network(\n",
    "    network=network, \n",
    "    N=network_size, \n",
    "    p=link_probability_between_nodes\n",
    ")\n",
    "\n",
    "ecap = tm.energy_out_capita(\n",
    "    a=access, \n",
    "    L=L, \n",
    "    Lc=Lc, \n",
    "    elast_l=mri_of_laborers, \n",
    "    elast_lc=mri_of_coordinated_laborers, \n",
    "    eff_lc=efficiency_of_coordinated_laborers, \n",
    "    N=network_size\n",
    ")\n",
    "\n",
    "\n",
    "print(f\"Ecap: {round(ecap,2)}\")\n",
    "tm.print_graph(t, A, Lc, L, G, positions, network_size)"
   ]
  },
  {
   "cell_type": "markdown",
   "metadata": {},
   "source": [
    "#### response to shocks"
   ]
  },
  {
   "cell_type": "code",
   "execution_count": null,
   "metadata": {},
   "outputs": [],
   "source": [
    "network_update = False\n",
    "while not network_update:\n",
    "    t += 1\n",
    "    shock = tm.shock(shock_alpha, shock_beta)\n",
    "    access_after_shock = resource_access * (1 - shock)\n",
    "\n",
    "    # ecap after shock\n",
    "    ecap = tm.energy_out_capita(\n",
    "        access_after_shock, L, Lc, mri_of_laborers, mri_of_coordinated_laborers, \n",
    "        efficiency_of_coordinated_laborers, network_size)\n",
    "\n",
    "    print(f\"time: {t}, Ecap = {round(ecap, 2)} < {threshold_for_complexity_increase}\", end=\"\\r\")\n",
    "    if ecap < threshold_for_complexity_increase:\n",
    "        Admin = tm.select_Admin(G, A, L, Lc, first_admin, choice_next_admin)\n",
    "\n",
    "        # if no Admin is selected, there is no need to update the network\n",
    "        if Admin != None:\n",
    "            L, Lc, A = tm.update_network(A, L, Lc, Admin, G)\n",
    "\n",
    "        ecap = tm.energy_out_capita(\n",
    "            access_after_shock, L, Lc, mri_of_laborers, mri_of_coordinated_laborers, \n",
    "            efficiency_of_coordinated_laborers, network_size)\n",
    "\n",
    "        print(f\"time: {t}, Ecap after network update: {ecap}\")\n",
    "\n",
    "        tm.print_graph(0, A, Lc, L, G, positions, network_size, layout=\"fixed\")\n",
    "\n",
    "        network_update = True"
   ]
  },
  {
   "cell_type": "code",
   "execution_count": null,
   "metadata": {},
   "outputs": [],
   "source": [
    "f2 = fig2_stochastic_simulations(\n",
    "    seed=SEED,\n",
    "    plot_time=plot_time,\n",
    "    network_size=network_size,\n",
    "    link_probability_between_nodes=link_probability_between_nodes,\n",
    "    mri_of_laborers=mri_of_laborers,\n",
    "    mri_of_coordinated_laborers=mri_of_coordinated_laborers,\n",
    "    efficiency_of_coordinated_laborers=efficiency_of_coordinated_laborers,\n",
    "    exploration_setups=exploration_scenarios,\n",
    "    resource_access=resource_access,\n",
    "    threshold_for_complexity_increase=threshold_for_complexity_increase,\n",
    "    shock_alpha=shock_alpha,\n",
    "    shock_beta=shock_beta\n",
    ")\n",
    "plt.show()\n",
    "f2.savefig(\"pub_figure2.png\", dpi = 65)\n"
   ]
  },
  {
   "cell_type": "code",
   "execution_count": null,
   "metadata": {},
   "outputs": [],
   "source": [
    "f3 = fig3_stochastic_ensemble_and_macroscopic_approximation(\n",
    "    seed=SEED,\n",
    "    plot_time=plot_time,\n",
    "    network_size=network_size,\n",
    "    link_probability_between_nodes=link_probability_between_nodes,\n",
    "    mri_of_laborers=mri_of_laborers,\n",
    "    mri_of_coordinated_laborers=mri_of_coordinated_laborers,\n",
    "    efficiency_of_coordinated_laborers=efficiency_of_coordinated_laborers,\n",
    "    exploration_setups=exploration_scenarios,\n",
    "    threshold_for_complexity_increase=threshold_for_complexity_increase,\n",
    "    shock_alpha=shock_alpha,\n",
    "    shock_beta=shock_beta,\n",
    "    ensemble_data=ensemble_data,\n",
    "    iterations=iterations,\n",
    "    use_pre_simulated_data=use_pre_simulated_data\n",
    ")\n",
    "plt.show()\n",
    "f3.savefig(\"pub_figure3.png\", dpi = 65)"
   ]
  }
 ],
 "metadata": {
  "kernelspec": {
   "display_name": "Python 3.9.6 ('venv39': venv)",
   "language": "python",
   "name": "python3"
  },
  "language_info": {
   "codemirror_mode": {
    "name": "ipython",
    "version": 3
   },
   "file_extension": ".py",
   "mimetype": "text/x-python",
   "name": "python",
   "nbconvert_exporter": "python",
   "pygments_lexer": "ipython3",
   "version": "3.9.6"
  },
  "orig_nbformat": 4,
  "vscode": {
   "interpreter": {
    "hash": "31979c530869377f7beea2da65b77d70b5a1d3c0405d3a33ba0fec7fb30da2db"
   }
  }
 },
 "nbformat": 4,
 "nbformat_minor": 2
}
