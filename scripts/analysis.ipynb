{
 "cells": [
  {
   "cell_type": "code",
   "execution_count": null,
   "metadata": {},
   "outputs": [],
   "source": [
    "import matplotlib.pyplot as plt\n",
    "import numpy as np"
   ]
  },
  {
   "cell_type": "markdown",
   "metadata": {},
   "source": [
    "### import tainter model"
   ]
  },
  {
   "cell_type": "code",
   "execution_count": null,
   "metadata": {},
   "outputs": [],
   "source": [
    "import tainter.model.methods as tm\n",
    "from tainter.f2_plot_stochastic import fig2_stochastic_simulations\n",
    "from tainter.f3_plot_ensemble_with_approx import fig3_stochastic_ensemble_and_macroscopic_approximation\n",
    "from tainter.f3b_plot_trajectories import fig3b_administrator_trajectories\n",
    "from tainter.cluster.parameter_setup import generate_parameters\n",
    "from tainter.cluster.parameter_scan_odeint import parameter_scan\n"
   ]
  },
  {
   "cell_type": "markdown",
   "metadata": {},
   "source": [
    "## Threshold, Access and Energy Production\n",
    "\n",
    "In the initial network, all nodes are uncoordinated workers\n",
    "$N = N_L$, therefore the total energy production of the initial network is $E=a~N^\\psi$, where $\\psi$ is the marginal return of investment for uncoordinated workers, since the per capita enegy production is defined as $E_{cap} = \\frac{E}{N}$, initially we have $E_{cap,~init} = a~\\frac{N^\\psi}{N}$. To satisfy $E_{cap,~init} = 1$, resource access ($a$) has to be $a=\\frac{N}{N^\\psi}$. This can be interpreted as a baseline efficiency of the workers $\\geq 1$ to satisfy their needs.\n",
    "\n",
    "We then assume that the energy in the network is homegenously re-distributed after production and no additional administrator is selected if $E_{cap} \\geq 1$"
   ]
  },
  {
   "cell_type": "code",
   "execution_count": null,
   "metadata": {},
   "outputs": [],
   "source": [
    "def calculate_initial_energy_production(N, mri_l):\n",
    "    \"\"\"\n",
    "    calculate the amount of per capita energy production at the initial stage\n",
    "    of the network, when all nodes are uncoordinated workers, if access\n",
    "    to the resources is equal to 1\n",
    "    \"\"\"\n",
    "    return N ** mri_l / N\n",
    "\n",
    "\n",
    "def calculate_initial_resource_access(N, mri_l):\n",
    "    \"\"\"\n",
    "    scales the resource access of the network so that it ensures that the initial\n",
    "    per capita energy production without coordinated workers equals 1.\n",
    "    \"\"\"\n",
    "    return 1 / calculate_initial_energy_production(N, mri_l)"
   ]
  },
  {
   "cell_type": "code",
   "execution_count": null,
   "metadata": {},
   "outputs": [],
   "source": [
    "# general parameters\n",
    "SEED = 651\n",
    "plot_time = 5000\n",
    "max_runtime = 10000\n",
    "\n",
    "# simulation parameters (for all figures)\n",
    "network=\"erdos\"\n",
    "network_size = 400\n",
    "link_probability_between_nodes = 0.02\n",
    "mri_of_laborers = 0.75\n",
    "mri_of_coordinated_laborers = 0.75\n",
    "efficiency_of_coordinated_laborers = 1.05\n",
    "shock_alpha = 1\n",
    "shock_beta = 15\n",
    "\n",
    "first_admin = \"highest degree\"\n",
    "choice_next_admin = \"topcoordinated\"\n",
    "\n",
    "# figure 2 and 3\n",
    "exploration_scenarios = [0, 0.00275,  0.02]  # must always be a list of 3\n",
    "\n",
    "# figure 3\n",
    "ensemble_data = \"../data/ensemble/\"\n",
    "use_pre_simulated_data = False  # uses pre simulated data to generate plot\n",
    "iterations = 100  # needs to be increased but will take some time\n"
   ]
  },
  {
   "cell_type": "markdown",
   "metadata": {},
   "source": [
    "#### play with the simulation"
   ]
  },
  {
   "cell_type": "code",
   "execution_count": null,
   "metadata": {},
   "outputs": [],
   "source": [
    "N_coordinated_workers = 10\n",
    "t = 0\n",
    "access = calculate_initial_resource_access(network_size, mri_of_laborers)\n",
    "A, L, Lc, positions, E_cap, tmax, ainit, A_exp, L_exp, Lc_exp, Admin = tm.init(\n",
    "    N=network_size, \n",
    "    a=access, \n",
    "    elast_l=mri_of_laborers, \n",
    "    elast_lc=mri_of_coordinated_laborers, \n",
    "    eff_lc=efficiency_of_coordinated_laborers,\n",
    "    tmax=max_runtime\n",
    ")\n",
    "G = tm.construct_network(\n",
    "    network=network, \n",
    "    N=network_size, \n",
    "    p=link_probability_between_nodes\n",
    ")\n",
    "\n",
    "ecap = tm.energy_out_capita(\n",
    "    a=access, \n",
    "    L=L, \n",
    "    Lc=Lc, \n",
    "    elast_l=mri_of_laborers, \n",
    "    elast_lc=mri_of_coordinated_laborers, \n",
    "    eff_lc=efficiency_of_coordinated_laborers, \n",
    "    N=network_size\n",
    ")\n",
    "\n",
    "\n",
    "print(f\"Ecap: {round(ecap,2)}\")\n",
    "tm.print_graph(t, A, Lc, L, G, positions, network_size)"
   ]
  },
  {
   "cell_type": "markdown",
   "metadata": {},
   "source": [
    "#### response to shocks"
   ]
  },
  {
   "cell_type": "code",
   "execution_count": null,
   "metadata": {},
   "outputs": [],
   "source": [
    "network_update = False\n",
    "while not network_update:\n",
    "    t += 1\n",
    "    shock = tm.shock(shock_alpha, shock_beta)\n",
    "    access_after_shock = access * (1 - shock)\n",
    "\n",
    "    # ecap after shock\n",
    "    ecap = tm.energy_out_capita(\n",
    "        access_after_shock, L, Lc, mri_of_laborers, mri_of_coordinated_laborers, \n",
    "        efficiency_of_coordinated_laborers, network_size)\n",
    "\n",
    "    print(f\"time: {t}, Ecap = {round(ecap, 2)} < {1}\", end=\"\\r\")\n",
    "    if ecap < 1:\n",
    "        Admin = tm.select_Admin(G, A, L, Lc, first_admin, choice_next_admin)\n",
    "\n",
    "        # if no Admin is selected, there is no need to update the network\n",
    "        if Admin != None:\n",
    "            L, Lc, A = tm.update_network(A, L, Lc, Admin, G)\n",
    "\n",
    "        ecap = tm.energy_out_capita(\n",
    "            access_after_shock, L, Lc, mri_of_laborers, mri_of_coordinated_laborers, \n",
    "            efficiency_of_coordinated_laborers, network_size)\n",
    "\n",
    "        print(f\"time: {t}, Ecap after network update: {ecap}\")\n",
    "\n",
    "        tm.print_graph(0, A, Lc, L, G, positions, network_size, layout=\"fixed\")\n",
    "\n",
    "        network_update = True"
   ]
  },
  {
   "cell_type": "markdown",
   "metadata": {},
   "source": [
    "## Stochastic Simulation\n",
    "\n",
    "#### Figure 2 "
   ]
  },
  {
   "cell_type": "code",
   "execution_count": null,
   "metadata": {},
   "outputs": [],
   "source": [
    "f2 = fig2_stochastic_simulations(\n",
    "    seed=SEED,\n",
    "    plot_time=plot_time,\n",
    "    network_size=network_size,\n",
    "    link_probability_between_nodes=link_probability_between_nodes,\n",
    "    mri_of_laborers=mri_of_laborers,\n",
    "    mri_of_coordinated_laborers=mri_of_coordinated_laborers,\n",
    "    efficiency_of_coordinated_laborers=efficiency_of_coordinated_laborers,\n",
    "    exploration_setups=exploration_scenarios,\n",
    "    shock_alpha=shock_alpha,\n",
    "    shock_beta=shock_beta\n",
    ")\n",
    "plt.show()\n",
    "f2.savefig(\"pub_figure2.png\", dpi = 65)\n"
   ]
  },
  {
   "cell_type": "markdown",
   "metadata": {},
   "source": [
    "## Macroscopic Approximation\n",
    "\n",
    "the macroscopic approximation is\n",
    "\n",
    "$\\frac{dN_A}{dt}=p_e(N-2 N_A) + F(\\frac{N ^ \\psi}{E}, \\beta, \\alpha), with$\n",
    "\n",
    "\n",
    "$E = ((N-N_a)(1-\\rho)^{N_a})^\\psi + c((N-N_A)(1-(1-\\rho)^{N_A}))^\\phi$\n",
    "\n",
    "\n",
    "$E_{cap} =  \\frac{E}{N ^ \\psi} $\n",
    "\n",
    "where $F$ is the cumulative Beta distribution and $N^\\psi$ is the initial energy production of the network without any coordinated workers. It implies the assumption that resource of the network increases exponentially with decreasing marginal returns. This is done to satisfy that the initial energy production always satistfy $E_{cap} = 1$\n"
   ]
  },
  {
   "cell_type": "markdown",
   "metadata": {},
   "source": [
    "#### Figure 3"
   ]
  },
  {
   "cell_type": "code",
   "execution_count": null,
   "metadata": {},
   "outputs": [],
   "source": [
    "f3 = fig3_stochastic_ensemble_and_macroscopic_approximation(\n",
    "    seed=SEED,\n",
    "    plot_time=plot_time,\n",
    "    network_size=network_size,\n",
    "    link_probability_between_nodes=link_probability_between_nodes,\n",
    "    mri_of_laborers=mri_of_laborers,\n",
    "    mri_of_coordinated_laborers=mri_of_coordinated_laborers,\n",
    "    efficiency_of_coordinated_laborers=efficiency_of_coordinated_laborers,\n",
    "    exploration_setups=exploration_scenarios,\n",
    "    shock_alpha=shock_alpha,\n",
    "    shock_beta=shock_beta,\n",
    "    ensemble_data=ensemble_data,\n",
    "    iterations=iterations,\n",
    "    use_pre_simulated_data=use_pre_simulated_data\n",
    ")\n",
    "plt.show()\n",
    "f3.savefig(\"pub_figure3.png\", dpi = 65)"
   ]
  },
  {
   "cell_type": "code",
   "execution_count": null,
   "metadata": {},
   "outputs": [],
   "source": [
    "mri = 0.35\n",
    "\n",
    "f3b = fig3b_administrator_trajectories(\n",
    "    exploration_setups=[0.002, 0.0002],\n",
    "    network_size=network_size,\n",
    "    link_probability_between_nodes=0.2,\n",
    "    mri_of_coordinated_laborers=mri,\n",
    "    mri_of_laborers=mri,\n",
    "    efficiency_of_coordinated_laborers=1.5,\n",
    "    shock_alpha=shock_alpha,\n",
    "    shock_beta=shock_beta\n",
    ")\n",
    "\n",
    "plt.show()\n",
    "f3b.savefig(\"pub_figure3b.png\", dpi=65)"
   ]
  },
  {
   "cell_type": "markdown",
   "metadata": {},
   "source": [
    "## Parameter Analysis of Macroscopic Approximation"
   ]
  },
  {
   "cell_type": "code",
   "execution_count": null,
   "metadata": {},
   "outputs": [],
   "source": [
    "# select parameter ranges\n",
    "rho = np.linspace(0, 0.3, 10)  # link density in erdos renyi network\n",
    "c = np.linspace(1, 1.5, 10)  # efficiency of coordinated Workers\n",
    "pe_null = np.array([0])\n",
    "pe_explore = np.logspace(-5, -1.6, num=9)\n",
    "p_e = np.concatenate((pe_null, pe_explore), axis=None)\n",
    "\n",
    "approx_parameters = dict(\n",
    "    N=400,\n",
    "    p_e=None,\n",
    "    rho=None,\n",
    "    psi=0.75,\n",
    "    phi=0.75,\n",
    "    c=None,\n",
    "    alpha=1,\n",
    "    beta=15\n",
    ")\n",
    "\n",
    "\n",
    "par_scan_output = \"../data/parameter_analysis/\"\n",
    "parameters, n_chunks = generate_parameters(\n",
    "    output=par_scan_output,\n",
    "    approx_parameters=approx_parameters,\n",
    "    chunk_size=None,\n",
    "    rho=rho,\n",
    "    c=c,\n",
    "    p_e=p_e\n",
    ")\n",
    "\n",
    "print(f\"prepared parameters {parameters} in {n_chunks} chunks.\")"
   ]
  },
  {
   "cell_type": "code",
   "execution_count": null,
   "metadata": {},
   "outputs": [],
   "source": [
    "# run parameter scan\n",
    "\n",
    "parameter_scan(\n",
    "    output_dir=par_scan_output,\n",
    "    njob=1,\n",
    "    parameters=parameters,\n",
    "    # approximation params\n",
    "\n",
    ")"
   ]
  }
 ],
 "metadata": {
  "kernelspec": {
   "display_name": "Python 3.9.6 ('venv39': venv)",
   "language": "python",
   "name": "python3"
  },
  "language_info": {
   "codemirror_mode": {
    "name": "ipython",
    "version": 3
   },
   "file_extension": ".py",
   "mimetype": "text/x-python",
   "name": "python",
   "nbconvert_exporter": "python",
   "pygments_lexer": "ipython3",
   "version": "3.9.6"
  },
  "orig_nbformat": 4,
  "vscode": {
   "interpreter": {
    "hash": "31979c530869377f7beea2da65b77d70b5a1d3c0405d3a33ba0fec7fb30da2db"
   }
  }
 },
 "nbformat": 4,
 "nbformat_minor": 2
}
